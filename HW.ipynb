{
 "cells": [
  {
   "cell_type": "markdown",
   "id": "47ac6a24-4163-4139-a9aa-908958910e25",
   "metadata": {},
   "source": [
    "## 1. Sentiment Analysis\n",
    "\n",
    "Use the [newsapi](https://newsapi.org/) to pull the latest news articles for Bitcoin and Ethereum and create a DataFrame of sentiment scores for each coin.\n",
    "\n",
    "Use descriptive statistics to answer the following questions:\n",
    "1. Which coin had the highest mean positive score?\n",
    "2. Which coin had the highest negative score?\n",
    "3. Which coin had the highest positive score?"
   ]
  },
  {
   "cell_type": "code",
   "execution_count": 15,
   "id": "77ebc9f2-63ce-4ca4-94dc-951634a56773",
   "metadata": {},
   "outputs": [
    {
     "name": "stderr",
     "output_type": "stream",
     "text": [
      "[nltk_data] Downloading package vader_lexicon to\n",
      "[nltk_data]     C:\\Users\\orkhan\\AppData\\Roaming\\nltk_data...\n",
      "[nltk_data]   Package vader_lexicon is already up-to-date!\n"
     ]
    }
   ],
   "source": [
    "# Initial imports\n",
    "import os\n",
    "import pandas as pd\n",
    "from dotenv import load_dotenv\n",
    "import nltk as nltk\n",
    "nltk.download('vader_lexicon')\n",
    "from nltk.sentiment.vader import SentimentIntensityAnalyzer\n",
    "analyzer = SentimentIntensityAnalyzer()\n",
    "from newsapi import NewsApiClient\n",
    "%matplotlib inline"
   ]
  },
  {
   "cell_type": "code",
   "execution_count": 16,
   "id": "9ac24263-5791-4586-86f2-9f61b2caf591",
   "metadata": {},
   "outputs": [],
   "source": [
    "# Read your api key environment variable\n",
    "alpaca_api_key = os.getenv(\"ALPACA_API_KEY\")"
   ]
  },
  {
   "cell_type": "code",
   "execution_count": 17,
   "id": "e10c7197-cee0-4b2e-9560-dcb47c197d0b",
   "metadata": {},
   "outputs": [],
   "source": [
    "# Create a newsapi client\n",
    "newsapi = NewsApiClient(api_key=alpaca_api_key)"
   ]
  },
  {
   "cell_type": "code",
   "execution_count": 18,
   "id": "c1c22ba7-262b-4278-bd08-67160093e3df",
   "metadata": {},
   "outputs": [],
   "source": []
  },
  {
   "cell_type": "code",
   "execution_count": null,
   "id": "dc1d875c-8940-4623-a35a-deca8ab4605e",
   "metadata": {},
   "outputs": [],
   "source": [
    "bitcoin_news = newsapi.get_everything(q=\"jupyter lab\", language=\"en\")"
   ]
  },
  {
   "cell_type": "code",
   "execution_count": 7,
   "id": "473543ee-1018-4589-9112-1b068c125f7d",
   "metadata": {},
   "outputs": [],
   "source": [
    "# Fetch the Bitcoin news articles\n",
    "btc_url = \"https://news.bitcoin.com/bitcoin-ethereum-technical-analysis-bitcoin-moves-higher-as-crypto-markets-rebound-on-saturday/\""
   ]
  },
  {
   "cell_type": "code",
   "execution_count": 8,
   "id": "12a272b2-3504-4b6b-8f1a-e93047d81aba",
   "metadata": {},
   "outputs": [],
   "source": [
    "# Fetch the Ethereum news articles\n",
    "eth_url = \"https://news.bitcoin.com/bitcoin-ethereum-technical-analysis-bitcoin-moves-higher-as-crypto-markets-rebound-on-saturday/\""
   ]
  },
  {
   "cell_type": "code",
   "execution_count": null,
   "id": "e50372b6-ad87-421f-abb5-3d43cdf3804b",
   "metadata": {},
   "outputs": [],
   "source": [
    "# Create the Bitcoin sentiment scores DataFrame\n",
    "# YOUR CODE HERE!"
   ]
  },
  {
   "cell_type": "code",
   "execution_count": null,
   "id": "795e443f-5610-4b53-9d5a-8ea270ac954a",
   "metadata": {},
   "outputs": [],
   "source": [
    "# Create the Ethereum sentiment scores DataFrame\n",
    "# YOUR CODE HERE!"
   ]
  },
  {
   "cell_type": "code",
   "execution_count": null,
   "id": "2a1fd3bb-39f7-462b-8d92-3c572002a251",
   "metadata": {},
   "outputs": [],
   "source": [
    "# Describe the Bitcoin Sentiment\n",
    "# YOUR CODE HERE!"
   ]
  },
  {
   "cell_type": "code",
   "execution_count": null,
   "id": "a10372d1-09ab-4003-a2fc-100cee23319b",
   "metadata": {},
   "outputs": [],
   "source": [
    "# Describe the Ethereum Sentiment\n",
    "# YOUR CODE HERE!"
   ]
  },
  {
   "cell_type": "code",
   "execution_count": null,
   "id": "306363ef-9142-466c-b950-e5db0384eba8",
   "metadata": {},
   "outputs": [],
   "source": [
    "### Questions:\n",
    "\n",
    "Q: Which coin had the highest mean positive score?\n",
    "\n",
    "A: \n",
    "\n",
    "Q: Which coin had the highest compound score?\n",
    "\n",
    "A: \n",
    "\n",
    "Q. Which coin had the highest positive score?\n",
    "\n",
    "A: "
   ]
  }
 ],
 "metadata": {
  "kernelspec": {
   "display_name": "Python 3 (ipykernel)",
   "language": "python",
   "name": "python3"
  },
  "language_info": {
   "codemirror_mode": {
    "name": "ipython",
    "version": 3
   },
   "file_extension": ".py",
   "mimetype": "text/x-python",
   "name": "python",
   "nbconvert_exporter": "python",
   "pygments_lexer": "ipython3",
   "version": "3.8.8"
  }
 },
 "nbformat": 4,
 "nbformat_minor": 5
}
